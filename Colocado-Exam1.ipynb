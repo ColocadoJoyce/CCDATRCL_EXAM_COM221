{
 "cells": [
  {
   "cell_type": "markdown",
   "metadata": {
    "id": "view-in-github",
    "colab_type": "text"
   },
   "source": [
    "<a href=\"https://colab.research.google.com/github/robitussin/CCDATRCL_EXAM/blob/main/exam1.ipynb\" target=\"_parent\"><img src=\"https://colab.research.google.com/assets/colab-badge.svg\" alt=\"Open In Colab\"/></a>"
   ]
  },
  {
   "cell_type": "markdown",
   "metadata": {
    "id": "yaz2B0KGFehP"
   },
   "source": [
    "# Midterm Exam 💛💙"
   ]
  },
  {
   "cell_type": "markdown",
   "metadata": {
    "id": "_DmK1ONEFehQ"
   },
   "source": [
    "**Instructions** ❗️❗️\n",
    "\n",
    "❌ Do not remove or modify the notebook **sections**, **subsections**, **exam questions** or **any text** in this python notebook\n",
    "\n",
    "✔️ Put your answer in the designated cells below each question"
   ]
  },
  {
   "cell_type": "markdown",
   "metadata": {
    "id": "TMCAXKWCFehR"
   },
   "source": [
    "## Search"
   ]
  },
  {
   "cell_type": "code",
   "execution_count": 108,
   "metadata": {
    "id": "Fy8nEBRRFehR",
    "ExecuteTime": {
     "end_time": "2023-09-29T15:24:33.256868700Z",
     "start_time": "2023-09-29T15:24:33.129702800Z"
    }
   },
   "outputs": [],
   "source": [
    "def linearSearch(my_list, number):\n",
    "    index = 0\n",
    "\n",
    "    for i in my_list:\n",
    "\n",
    "        if my_list[index] == number:\n",
    "            return index\n",
    "\n",
    "        index = index + 1\n",
    "\n",
    "    return -1"
   ]
  },
  {
   "cell_type": "markdown",
   "metadata": {
    "id": "AjAevpueFehS"
   },
   "source": [
    "1. Using **linear search**, write a `findLargestIncrease()` function to find the largest increase in value between two adjacent numbers in your student number `(10 points)`\n",
    "\n",
    "    **Example:**\n",
    "\n",
    "    student_number = [2,0,2,2,6,2,5,1,9,3]\n",
    "\n",
    "    **Expected Output:**\n",
    "\n",
    "    findLargestIncrease(student_number)\n",
    "\n",
    "    Output: Between 1 and 9\n",
    "\n",
    "    **Explanation:**\n",
    "\n",
    "    From this student_number, the largest increase happened from number 1 to number 9"
   ]
  },
  {
   "cell_type": "code",
   "execution_count": 109,
   "metadata": {
    "id": "JE8nEfyJFehS",
    "ExecuteTime": {
     "end_time": "2023-09-29T15:24:33.257869700Z",
     "start_time": "2023-09-29T15:24:33.135328Z"
    }
   },
   "outputs": [
    {
     "name": "stdout",
     "output_type": "stream",
     "text": [
      "Between 0 and 2\n"
     ]
    }
   ],
   "source": [
    "# linearSearch does not work for student IDs that have repeating digits, so it's not used\n",
    "\n",
    "def findLargetIncrease(arr):\n",
    "    largest_increase_index = 0\n",
    "\n",
    "    for i in range(len(arr) - 1):\n",
    "        if arr[i + 1] - arr[i] > largest_increase_index:\n",
    "            largest_increase_index = i\n",
    "\n",
    "    print(f\"Between {arr[largest_increase_index]} and {arr[largest_increase_index + 1]}\")\n",
    "\n",
    "\n",
    "student_number = [2, 0, 2, 2, 2, 0, 0, 2, 3, 3]\n",
    "findLargetIncrease(student_number)"
   ]
  },
  {
   "cell_type": "markdown",
   "metadata": {
    "id": "nMyr1fNyFehS"
   },
   "source": [
    "2. Using **linear search**, write a `findLargestDecrease()` function to find the largest decrease in value between two adjacent numbers in your student number `(10 points)`\n",
    "\n",
    "    **Example:**\n",
    "\n",
    "    student_number = [2,0,2,2,6,2,5,1,9,3]\n",
    "\n",
    "    **Expected Output:**\n",
    "\n",
    "    findLargestDecrease(student_number)\n",
    "\n",
    "    Output: Between 9 and 3\n",
    "\n",
    "    **Explanation:**\n",
    "\n",
    "    From this student_number, the largest decrease happened from number 9 to number 3"
   ]
  },
  {
   "cell_type": "code",
   "execution_count": 110,
   "metadata": {
    "id": "bfMfQVbVFehS",
    "ExecuteTime": {
     "end_time": "2023-09-29T15:24:33.266381Z",
     "start_time": "2023-09-29T15:24:33.142194400Z"
    }
   },
   "outputs": [
    {
     "name": "stdout",
     "output_type": "stream",
     "text": [
      "Between 2 and 0\n"
     ]
    }
   ],
   "source": [
    "# linearSearch does not work for student IDs that have repeating digits, so it's not used\n",
    "\n",
    "def findLargetDecrease(arr):\n",
    "    largest_decrease_index = 0\n",
    "\n",
    "    for i in range(len(arr) - 1):\n",
    "        if arr[i] - arr[i + 1] > largest_decrease_index:\n",
    "            largest_decrease_index = i\n",
    "\n",
    "    print(f\"Between {arr[largest_decrease_index]} and {arr[largest_decrease_index + 1]}\")\n",
    "    \n",
    "student_number = [2, 0, 2, 2, 2, 0, 0, 2, 3, 3]\n",
    "findLargetDecrease(student_number)"
   ]
  },
  {
   "cell_type": "markdown",
   "metadata": {
    "id": "NtKSQn9QFehS"
   },
   "source": [
    "## Linked List"
   ]
  },
  {
   "cell_type": "code",
   "execution_count": 111,
   "metadata": {
    "id": "0HP5zyJcFehS",
    "ExecuteTime": {
     "end_time": "2023-09-29T15:24:33.267381500Z",
     "start_time": "2023-09-29T15:24:33.148027500Z"
    }
   },
   "outputs": [],
   "source": [
    "class Node:\n",
    "\n",
    "    def __init__(self, data):\n",
    "        self.data = data\n",
    "        self.next = None  # null"
   ]
  },
  {
   "cell_type": "code",
   "execution_count": 112,
   "metadata": {
    "id": "A-8Uefe7FehS",
    "ExecuteTime": {
     "end_time": "2023-09-29T15:24:33.405118600Z",
     "start_time": "2023-09-29T15:24:33.151392Z"
    }
   },
   "outputs": [],
   "source": [
    "class LinkedList:\n",
    "\n",
    "    def __init__(self):\n",
    "        self.head = None\n",
    "\n",
    "    def traverse(self, node):\n",
    "        while node:\n",
    "            print(node.data, end=\" -> \")\n",
    "            node = node.next"
   ]
  },
  {
   "cell_type": "markdown",
   "metadata": {
    "id": "uPgIJJuSFehT"
   },
   "source": [
    "**Instructions** ❗️❗️\n",
    "\n",
    "Use the pre-defined linked list class/functions to create a linked list"
   ]
  },
  {
   "cell_type": "markdown",
   "metadata": {
    "id": "WIwpW7Q2FehT"
   },
   "source": [
    "1. Create a Singly linked list named **num_list** and print all of its elements. `(5 points)`\n",
    "\n",
    "- **num_list** should contain all digits of your student number.\n",
    "\n",
    "    **Expected Output:**\n",
    "\n",
    "    print(num_list)\n",
    "\n",
    "    [2, 0, 2, 2, 1, 2, 3, 4, 5, 6]"
   ]
  },
  {
   "cell_type": "code",
   "execution_count": 113,
   "metadata": {
    "id": "Lihv0JPiFehT",
    "ExecuteTime": {
     "end_time": "2023-09-29T15:24:33.407118500Z",
     "start_time": "2023-09-29T15:24:33.158014Z"
    }
   },
   "outputs": [
    {
     "name": "stdout",
     "output_type": "stream",
     "text": [
      "2 -> 0 -> 2 -> 2 -> 2 -> 0 -> 0 -> 2 -> 3 -> 3 -> "
     ]
    }
   ],
   "source": [
    "student_number = [2, 0, 2, 2, 2, 0, 0, 2, 3, 3]\n",
    "\n",
    "num_list = LinkedList()\n",
    "num_list.head = Node(student_number[0])\n",
    "current = num_list.head\n",
    "\n",
    "for i in range(1, len(student_number)):\n",
    "    current.next = Node(student_number[i])\n",
    "    current = current.next\n",
    "\n",
    "num_list.traverse(num_list.head)"
   ]
  },
  {
   "cell_type": "markdown",
   "metadata": {
    "id": "dqA2UYrYFehT"
   },
   "source": [
    "2. Write a `hasPrime()` function to test whether a prime number is in the last six digits of **num_list**. `(5 points)`\n",
    "\n",
    "- If a prime number is in the last six digits of **num_list**, the method should return **true**\n",
    "\n",
    "- If a prime number is not in the last six digits of **num_list**, the method should return **false**\n",
    "\n",
    "    **Expected Output:**\n",
    "\n",
    "    hasPrime(num_list)\n",
    "\n",
    "    True"
   ]
  },
  {
   "cell_type": "code",
   "execution_count": 114,
   "metadata": {
    "id": "GYwsQNz5FehT",
    "ExecuteTime": {
     "end_time": "2023-09-29T15:24:33.409118200Z",
     "start_time": "2023-09-29T15:24:33.164243800Z"
    }
   },
   "outputs": [
    {
     "data": {
      "text/plain": "True"
     },
     "execution_count": 114,
     "metadata": {},
     "output_type": "execute_result"
    }
   ],
   "source": [
    "def hasPrime(num_list):\n",
    "    current = num_list.head\n",
    "    for i in range(4):\n",
    "        current = current.next\n",
    "\n",
    "    while current:\n",
    "        if current.data == 2:\n",
    "            return True\n",
    "        elif current.data % 2 == 0:\n",
    "            current = current.next\n",
    "        else:\n",
    "            for i in range(3, current.data, 2):\n",
    "                if current.data % i == 0:\n",
    "                    current = current.next\n",
    "                    break\n",
    "            else:\n",
    "                return True\n",
    "    return False\n",
    "\n",
    "\n",
    "hasPrime(num_list)"
   ]
  },
  {
   "cell_type": "markdown",
   "metadata": {
    "id": "5Qb0BOiwFehT"
   },
   "source": [
    "3. Write a `removeZeroes()` function to remove all occurrences of zeroes in **num_list**. `(5 points)`\n",
    "\n",
    "- If a zero is in **num_list**, return **num_list**\n",
    "\n",
    "- If there are no zeroes in **num_list**, return **\"no zeros found\"**\n",
    "\n",
    "    **Expected Output:**\n",
    "\n",
    "    removeZeroes(num_list)\n",
    "\n",
    "    [2, 2, 1, 2, 3, 4, 5, 6]"
   ]
  },
  {
   "cell_type": "code",
   "execution_count": 115,
   "metadata": {
    "id": "k1vAHUYuFehT",
    "ExecuteTime": {
     "end_time": "2023-09-29T15:24:33.420631900Z",
     "start_time": "2023-09-29T15:24:33.171280200Z"
    }
   },
   "outputs": [
    {
     "name": "stdout",
     "output_type": "stream",
     "text": [
      "2 -> 2 -> 2 -> 2 -> 2 -> 3 -> 3 -> "
     ]
    }
   ],
   "source": [
    "def removeZeroes(num_list):\n",
    "    current = num_list.head\n",
    "    while current:\n",
    "        if current.data == 0:\n",
    "            current.data = current.next.data\n",
    "            current.next = current.next.next\n",
    "        else:\n",
    "            current = current.next\n",
    "    return num_list\n",
    "\n",
    "removeZeroes(num_list)\n",
    "num_list.traverse(num_list.head)"
   ]
  },
  {
   "cell_type": "markdown",
   "metadata": {
    "id": "SKAlpglNFehT"
   },
   "source": [
    "4. Insert a dash symbol between the 4th and 5th digit in **num_list**. `(5 points)`\n",
    "\n",
    "    **Expected Output:**\n",
    "\n",
    "    print(num_list)\n",
    "\n",
    "    [2, 0, 2, 2, \"-\", 1, 2, 3, 4, 5, 6]"
   ]
  },
  {
   "cell_type": "code",
   "execution_count": 116,
   "metadata": {
    "id": "vF7fimZ-FehT",
    "ExecuteTime": {
     "end_time": "2023-09-29T15:24:33.422631100Z",
     "start_time": "2023-09-29T15:24:33.175898Z"
    }
   },
   "outputs": [
    {
     "name": "stdout",
     "output_type": "stream",
     "text": [
      "2 -> 2 -> 2 -> 2 -> - -> 2 -> 3 -> 3 -> "
     ]
    }
   ],
   "source": [
    "current = num_list.head\n",
    "\n",
    "for i in range(3):\n",
    "    current = current.next\n",
    "\n",
    "temp = current.next    \n",
    "current.next = Node(\"-\")\n",
    "current.next.next = temp\n",
    "\n",
    "num_list.traverse(num_list.head)"
   ]
  },
  {
   "cell_type": "markdown",
   "metadata": {
    "id": "KkC-LgdxFehT"
   },
   "source": [
    "## Stack"
   ]
  },
  {
   "cell_type": "code",
   "execution_count": 117,
   "metadata": {
    "id": "UYTqB1u_FehU",
    "ExecuteTime": {
     "end_time": "2023-09-29T15:24:33.428143500Z",
     "start_time": "2023-09-29T15:24:33.182410200Z"
    }
   },
   "outputs": [],
   "source": [
    "# Creating a stack\n",
    "def create_stack():\n",
    "    stack = []\n",
    "    return stack\n",
    "\n",
    "\n",
    "def print_stack(stack):\n",
    "    if (check_empty(stack)):\n",
    "        return \"stack is empty\"\n",
    "\n",
    "    # Create a copy of the stack and reverse the elements\n",
    "    tempStack = stack.copy()\n",
    "    tempStack.reverse()\n",
    "\n",
    "    # Print all elements using a loop\n",
    "    for i in tempStack:\n",
    "        print(i)\n",
    "\n",
    "    # Delete the copy to free up memory\n",
    "    del tempStack\n",
    "\n",
    "\n",
    "# Creating an empty stack\n",
    "\n",
    "\n",
    "def check_empty(stack):\n",
    "    return len(stack) == 0\n",
    "\n",
    "\n",
    "# Adding items into the stack\n",
    "def push(stack, item):\n",
    "    stack.append(item)\n",
    "    print(\"pushed item: \" + item)\n",
    "\n",
    "\n",
    "# Removing an element from the stack\n",
    "def pop(stack):\n",
    "    if (check_empty(stack)):\n",
    "        return \"stack is empty\"\n",
    "\n",
    "    return stack.pop()\n",
    "\n",
    "\n",
    "def peek(stack):\n",
    "    # Use negative indexing to display the last element of the list\n",
    "    print(stack[-1])"
   ]
  },
  {
   "cell_type": "markdown",
   "metadata": {
    "id": "wLAQchs8FehU"
   },
   "source": [
    "**Instructions** ❗️❗️\n",
    "\n",
    "Use the pre-defined stack class/functions to create a stack"
   ]
  },
  {
   "cell_type": "markdown",
   "metadata": {
    "id": "37cg9BoCFehU"
   },
   "source": [
    "1. Create two (2) stacks named **name_stack** and **num_stack** `(5 points)`\n",
    "\n",
    "- **name_stack** should contain all letters of your first name.\n",
    "- **num_stack** should contain all digits of your student number.\n",
    "\n",
    "    **Expected Output:**\n",
    "\n",
    "    print(name_stack)\n",
    "\n",
    "    ['E', 'L', 'I', 'Z', 'E', 'R']\n",
    "\n",
    "    print(num_stack)\n",
    "\n",
    "    [2,0,2,2,1,2,3,4,5,6]"
   ]
  },
  {
   "cell_type": "code",
   "execution_count": 118,
   "metadata": {
    "id": "HlUIUQzQFehU",
    "ExecuteTime": {
     "end_time": "2023-09-29T15:24:33.431143700Z",
     "start_time": "2023-09-29T15:24:33.186564600Z"
    }
   },
   "outputs": [
    {
     "name": "stdout",
     "output_type": "stream",
     "text": [
      "pushed item: J\n",
      "pushed item: O\n",
      "pushed item: Y\n",
      "pushed item: C\n",
      "pushed item: E\n",
      "pushed item: 2\n",
      "pushed item: 0\n",
      "pushed item: 2\n",
      "pushed item: 2\n",
      "pushed item: 2\n",
      "pushed item: 0\n",
      "pushed item: 0\n",
      "pushed item: 2\n",
      "pushed item: 3\n",
      "pushed item: 3\n",
      "['J', 'O', 'Y', 'C', 'E']\n",
      "['2', '0', '2', '2', '2', '0', '0', '2', '3', '3']\n"
     ]
    }
   ],
   "source": [
    "name_stack = create_stack()\n",
    "num_stack = create_stack()\n",
    "\n",
    "for i in \"JOYCE\":\n",
    "    push(name_stack, i)\n",
    "    \n",
    "student_number = [2, 0, 2, 2, 2, 0, 0, 2, 3, 3]\n",
    "for i in student_number:\n",
    "    push(num_stack, str(i))\n",
    "    \n",
    "print(name_stack)\n",
    "print(num_stack)"
   ]
  },
  {
   "cell_type": "markdown",
   "metadata": {
    "id": "8cySe9LXFehU"
   },
   "source": [
    "2. Create a stack named **my_stack** that follows the following format: `(5 points)`\n",
    "\n",
    "- The first element should be the **5th digit in your student number**\n",
    "- The succeeding elements should be the letters of your **first name**\n",
    "- The last element should be the **last digit of your student number**\n",
    "\n",
    "    **Expected Output:**\n",
    "\n",
    "    my_stack = [1, E, L, I, Z, E, R, 6]"
   ]
  },
  {
   "cell_type": "code",
   "execution_count": 119,
   "metadata": {
    "id": "bEnCoAhjFehU",
    "ExecuteTime": {
     "end_time": "2023-09-29T15:24:33.431143700Z",
     "start_time": "2023-09-29T15:24:33.192616200Z"
    }
   },
   "outputs": [
    {
     "name": "stdout",
     "output_type": "stream",
     "text": [
      "pushed item: 2\n",
      "pushed item: J\n",
      "pushed item: O\n",
      "pushed item: Y\n",
      "pushed item: C\n",
      "pushed item: E\n",
      "pushed item: 3\n",
      "['2', 'J', 'O', 'Y', 'C', 'E', '3']\n"
     ]
    }
   ],
   "source": [
    "my_stack = create_stack()\n",
    "\n",
    "push(my_stack, str(student_number[4]))\n",
    "\n",
    "for i in \"JOYCE\":\n",
    "    push(my_stack, i)\n",
    "    \n",
    "push(my_stack, str(student_number[-1]))\n",
    "\n",
    "print(my_stack)"
   ]
  },
  {
   "cell_type": "markdown",
   "metadata": {
    "id": "8a8_KP5nFehU"
   },
   "source": [
    "3. Write a `verifyStack()` function that will take in `my_stack` and check if its format has been followed `(10 points)`\n",
    "\n",
    "- Return **True** if the format has been followed\n",
    "- Return **False** if the format was not followed\n",
    "- Verify the format by checking the contents of **my_stack** with **name_stack** and **num_stack**\n",
    "\n",
    "    **Expected Output:**\n",
    "\n",
    "    my_stack = [1, E, L, I, Z, E, R, 6]\n",
    "\n",
    "    verifyStack(my_stack)\n",
    "\n",
    "    True\n",
    "\n",
    "    my_stack = [1, S, L, I, Z, E, R, 7]\n",
    "\n",
    "    verifyStack(my_stack)\n",
    "\n",
    "    False"
   ]
  },
  {
   "cell_type": "code",
   "execution_count": 120,
   "metadata": {
    "id": "RdANSxD0FehU",
    "ExecuteTime": {
     "end_time": "2023-09-29T15:24:33.438655300Z",
     "start_time": "2023-09-29T15:24:33.201565500Z"
    }
   },
   "outputs": [
    {
     "name": "stdout",
     "output_type": "stream",
     "text": [
      "pushed item: 2\n",
      "pushed item: J\n",
      "pushed item: O\n",
      "pushed item: Y\n",
      "pushed item: C\n",
      "pushed item: E\n",
      "pushed item: 3\n",
      "['2', 'J', 'O', 'Y', 'C', 'E', '3']\n",
      "True\n",
      "pushed item: 2\n",
      "pushed item: E\n",
      "pushed item: C\n",
      "pushed item: J\n",
      "pushed item: O\n",
      "pushed item: Y\n",
      "pushed item: 3\n",
      "['1', 'E', 'C', 'J', 'O', 'Y', '2', 'E', 'C', 'J', 'O', 'Y', '3']\n",
      "False\n"
     ]
    }
   ],
   "source": [
    "def verifyStack(my_stack):\n",
    "    if len(my_stack) != len(name_stack) + 2:\n",
    "        return False\n",
    "    \n",
    "    if my_stack[0] != num_stack[4] or my_stack[-1] != num_stack[-1]:\n",
    "        return False\n",
    "    \n",
    "    if my_stack[1:-1] != name_stack:\n",
    "        return False\n",
    "\n",
    "    return True    \n",
    "\n",
    "name_stack = ['J', 'O', 'Y', 'C', 'E']\n",
    "num_stack = ['2', '0', '2', '2', '2', '0', '0', '2', '3', '3']\n",
    "\n",
    "my_stack = create_stack()\n",
    "\n",
    "push(my_stack, str(num_stack[4]))\n",
    "\n",
    "for i in \"JOYCE\":\n",
    "    push(my_stack, i)\n",
    "\n",
    "push(my_stack, str(num_stack[-1]))\n",
    "\n",
    "print(my_stack)\n",
    "print(verifyStack(my_stack))\n",
    "\n",
    "my_stack = ['1', 'E', 'C', 'J', 'O', 'Y']\n",
    "num_stack = ['2', '0', '2', '2', '2', '0', '0', '2', '3', '3']\n",
    "\n",
    "\n",
    "push(my_stack, str(num_stack[4]))\n",
    "\n",
    "for i in \"ECJOY\":\n",
    "    push(my_stack, i)\n",
    "\n",
    "push(my_stack, str(num_stack[-1]))\n",
    "\n",
    "print(my_stack)\n",
    "print(verifyStack(my_stack))"
   ]
  },
  {
   "cell_type": "markdown",
   "metadata": {
    "id": "UC5C64B2FehU"
   },
   "source": [
    "## Queue"
   ]
  },
  {
   "cell_type": "code",
   "execution_count": 121,
   "metadata": {
    "id": "NJJ0j0LHFehU",
    "ExecuteTime": {
     "end_time": "2023-09-29T15:24:33.440654500Z",
     "start_time": "2023-09-29T15:24:33.208095600Z"
    }
   },
   "outputs": [],
   "source": [
    "class Queue:\n",
    "    def __init__(self):\n",
    "        self.queue = []\n",
    "\n",
    "    # Add an element\n",
    "    def enqueue(self, item):\n",
    "        self.queue.append(item)\n",
    "\n",
    "    # Remove an element\n",
    "    def dequeue(self):\n",
    "        if len(self.queue) < 1:\n",
    "            return None\n",
    "        return self.queue.pop(0)\n",
    "\n",
    "    # Display  the queue\n",
    "    def display(self):\n",
    "        print(self.queue)\n",
    "\n",
    "    def size(self):\n",
    "        return len(self.queue)\n",
    "\n",
    "    def peek(self):\n",
    "        return self.queue[0]"
   ]
  },
  {
   "cell_type": "markdown",
   "metadata": {
    "id": "80OekpbeFehV"
   },
   "source": [
    "**Instructions** ❗️❗️\n",
    "\n",
    "Use the pre-defined queue class/functions to create a Queue"
   ]
  },
  {
   "cell_type": "markdown",
   "metadata": {
    "id": "_Hf0OP5cFehV"
   },
   "source": [
    "1. Create a simple queue named **num_queue** `(5 points)`\n",
    "\n",
    "- **num_queue** should contain all digits of your student number.\n",
    "\n",
    "    **Expected Output:**\n",
    "\n",
    "    print(num_queue)\n",
    "\n",
    "    [2,0,2,2,1,2,3,4,5,6]"
   ]
  },
  {
   "cell_type": "code",
   "execution_count": 122,
   "metadata": {
    "id": "_mgmE4ArFehV",
    "ExecuteTime": {
     "end_time": "2023-09-29T15:24:33.443654400Z",
     "start_time": "2023-09-29T15:24:33.213974200Z"
    }
   },
   "outputs": [
    {
     "name": "stdout",
     "output_type": "stream",
     "text": [
      "[2, 0, 2, 2, 2, 0, 0, 2, 3, 3]\n"
     ]
    }
   ],
   "source": [
    "num_queue = Queue()\n",
    "\n",
    "student_number = [2, 0, 2, 2, 2, 0, 0, 2, 3, 3]\n",
    "for i in student_number:\n",
    "    num_queue.enqueue(i)\n",
    "    \n",
    "num_queue.display()"
   ]
  },
  {
   "cell_type": "markdown",
   "metadata": {
    "id": "1pHG8t6DFehV"
   },
   "source": [
    "2. Write a `getMax()` or `getMin()` function for **num_queue** `(5 points)`\n",
    "\n",
    "- If your student number ends with an odd number, create a `getMax()` function that will return the largest number in **num_queue**\n",
    "- If your student number ends with an even number, create a `getMin()` function that will return the lowest number in **num_queue**\n",
    "\n",
    "    **Expected Output for getMax():**\n",
    "\n",
    "    getMax(num_queue)\n",
    "\n",
    "    6\n",
    "\n",
    "    **Expected Output for getMin():**\n",
    "\n",
    "    getMin(num_queue)\n",
    "\n",
    "    0"
   ]
  },
  {
   "cell_type": "code",
   "execution_count": 123,
   "metadata": {
    "id": "itj2U610FehV",
    "ExecuteTime": {
     "end_time": "2023-09-29T15:24:33.446166800Z",
     "start_time": "2023-09-29T15:24:33.220692500Z"
    }
   },
   "outputs": [
    {
     "name": "stdout",
     "output_type": "stream",
     "text": [
      "3\n"
     ]
    }
   ],
   "source": [
    "def getMax(num_queue):\n",
    "    max = num_queue.peek()\n",
    "    for i in range(num_queue.size()):\n",
    "        temp = num_queue.dequeue()\n",
    "        if temp > max:\n",
    "            max = temp\n",
    "        num_queue.enqueue(temp)\n",
    "    return max\n",
    "\n",
    "student_number = [2, 0, 2, 2, 2, 0, 0, 2, 3, 3]\n",
    "num_queue = Queue()\n",
    "\n",
    "for i in student_number:\n",
    "    num_queue.enqueue(i)\n",
    "    \n",
    "print(getMax(num_queue))"
   ]
  },
  {
   "cell_type": "markdown",
   "metadata": {
    "id": "YkgmP6GwFehV"
   },
   "source": [
    "3. Write a `getOdd()` or `getEven()` function for  **num_queue** `(5 points)`\n",
    "\n",
    "- If your student number ends with an **odd number**, create a `getOdd()` function that will return all odd numbers in **num_queue**\n",
    "- If your student number ends with an **even number**, create a `getEven()` function that will return all even numbers in **num_queue**\n",
    "\n",
    "    **Expected Output for getOdd():**\n",
    "\n",
    "    getOdd(num_queue)\n",
    "\n",
    "    [1, 3, 5]\n",
    "\n",
    "    **Expected Output for getEven():**\n",
    "\n",
    "    getEven(num_queue)\n",
    "\n",
    "    [0, 2, 4, 6]"
   ]
  },
  {
   "cell_type": "code",
   "execution_count": 124,
   "metadata": {
    "id": "2Bc7E1zNFehV",
    "ExecuteTime": {
     "end_time": "2023-09-29T15:24:33.454167300Z",
     "start_time": "2023-09-29T15:24:33.226971400Z"
    }
   },
   "outputs": [
    {
     "name": "stdout",
     "output_type": "stream",
     "text": [
      "[3, 3]\n"
     ]
    }
   ],
   "source": [
    "def getOdd(num_queue):\n",
    "    odd_queue = Queue()\n",
    "    for i in range(num_queue.size()):\n",
    "        temp = num_queue.dequeue()\n",
    "        if temp % 2 != 0:\n",
    "            odd_queue.enqueue(temp)\n",
    "        num_queue.enqueue(temp)\n",
    "    return odd_queue\n",
    "\n",
    "student_number = [2, 0, 2, 2, 2, 0, 0, 2, 3, 3]\n",
    "num_queue = Queue()\n",
    "\n",
    "for i in student_number:\n",
    "    num_queue.enqueue(i)\n",
    "    \n",
    "print(getOdd(num_queue).queue)"
   ]
  },
  {
   "cell_type": "markdown",
   "metadata": {
    "id": "kuzWF5g4FehV"
   },
   "source": [
    "4. Write a `removeDup()` function that will remove all duplicates in **num_queue** `(5 points)`\n",
    "\n",
    "    **Expected Output:**\n",
    "\n",
    "    removeDup(num_queue)\n",
    "\n",
    "    [2,0,1,3,4,5,6]"
   ]
  },
  {
   "cell_type": "code",
   "execution_count": 125,
   "metadata": {
    "id": "I8LeQP8MFehY",
    "ExecuteTime": {
     "end_time": "2023-09-29T15:24:33.454167300Z",
     "start_time": "2023-09-29T15:24:33.233121200Z"
    }
   },
   "outputs": [
    {
     "name": "stdout",
     "output_type": "stream",
     "text": [
      "[2, 0, 3]\n"
     ]
    }
   ],
   "source": [
    "def removeDup(num_queue):\n",
    "    temp_queue = Queue()\n",
    "    for i in range(num_queue.size()):\n",
    "        temp = num_queue.dequeue()\n",
    "        if temp not in temp_queue.queue:\n",
    "            temp_queue.enqueue(temp)\n",
    "        num_queue.enqueue(temp)\n",
    "    return temp_queue\n",
    "\n",
    "student_number = [2, 0, 2, 2, 2, 0, 0, 2, 3, 3]\n",
    "num_queue = Queue()\n",
    "\n",
    "for i in student_number:\n",
    "    num_queue.enqueue(i)\n",
    "    \n",
    "print(removeDup(num_queue).queue)"
   ]
  },
  {
   "cell_type": "markdown",
   "metadata": {
    "id": "LVfZTh8YFehZ"
   },
   "source": [
    "## Sort"
   ]
  },
  {
   "cell_type": "markdown",
   "metadata": {
    "id": "bm9lonfzFehZ"
   },
   "source": [
    "**Instructions** ❗️❗️\n",
    "\n",
    "Use the any sorting algoritms"
   ]
  },
  {
   "cell_type": "markdown",
   "metadata": {
    "id": "EJTlxhEdFehZ"
   },
   "source": [
    "1. Using any sorting algorithm, sort the **last 6 digits** of your student number in ascending order `(5 points)`\n",
    "\n",
    "    **Example:**\n",
    "\n",
    "    student_number = [2,0,2,2,6,2,5,1,3,4]\n",
    "\n",
    "    **Expected Output:**\n",
    "\n",
    "    print(student_number)\n",
    "\n",
    "    [2,0,2,2,1,2,3,4,5,6]\n"
   ]
  },
  {
   "cell_type": "code",
   "execution_count": 126,
   "metadata": {
    "id": "MkZKfveOFehZ",
    "ExecuteTime": {
     "end_time": "2023-09-29T15:24:33.457687900Z",
     "start_time": "2023-09-29T15:24:33.243452500Z"
    }
   },
   "outputs": [
    {
     "name": "stdout",
     "output_type": "stream",
     "text": [
      "[0, 0, 0, 2, 2, 2, 2, 2, 3, 3]\n"
     ]
    }
   ],
   "source": [
    "def insertion_sort(arr):\n",
    "    for current in range(1, len(arr)):\n",
    "        key = arr[current]\n",
    "        j = current - 1\n",
    "\n",
    "        while j >= 0 and key < arr[j]:\n",
    "            arr[j + 1] = arr[j]\n",
    "            j = j - 1\n",
    "\n",
    "        arr[j + 1] = key\n",
    "        \n",
    "student_number = [2, 0, 2, 2, 2, 0, 0, 2, 3, 3]\n",
    "insertion_sort(student_number)\n",
    "print(student_number)"
   ]
  },
  {
   "cell_type": "markdown",
   "metadata": {
    "id": "sC2JZRZMFehZ"
   },
   "source": [
    "2. Using your student_number, separately sort the even numbers in **increasing order** and the odd numbers in **decreasing order** `(15 points)`\n",
    "\n",
    "    **Example:**\n",
    "\n",
    "    student_number = [2,0,2,2,1,2,3,4,5,6]\n",
    "\n",
    "    **Expected Output:**\n",
    "\n",
    "    print(student_number)\n",
    "\n",
    "    [0,2,2,2,2,4,6,5,3,1]"
   ]
  },
  {
   "cell_type": "code",
   "execution_count": 127,
   "metadata": {
    "id": "hWOh_ohcFehZ",
    "ExecuteTime": {
     "end_time": "2023-09-29T15:24:33.460687600Z",
     "start_time": "2023-09-29T15:24:33.249965900Z"
    }
   },
   "outputs": [
    {
     "name": "stdout",
     "output_type": "stream",
     "text": [
      "[0, 0, 0, 2, 2, 2, 2, 2, 3, 3]\n"
     ]
    }
   ],
   "source": [
    "def insertion_sort_with_separate(arr):\n",
    "    even = []\n",
    "    odd = []\n",
    "    for i in arr:\n",
    "        even.append(i) if i % 2 == 0 else odd.append(i)\n",
    "\n",
    "    # Ascending order for even\n",
    "    for current in range(1, len(even)):\n",
    "        key = even[current]\n",
    "        j = current - 1\n",
    "        while j >= 0 and key < even[j]:\n",
    "            even[j + 1] = even[j]\n",
    "            j -= 1\n",
    "        even[j + 1] = key\n",
    "\n",
    "    # Descending order for odd\n",
    "    for current in range(1, len(odd)):\n",
    "        key = odd[current]\n",
    "        j = current - 1\n",
    "        while j >= 0 and key > odd[j]:\n",
    "            odd[j + 1] = odd[j]\n",
    "            j -= 1\n",
    "        odd[j + 1] = key\n",
    "\n",
    "    return even + odd\n",
    "\n",
    "student_number = [2, 0, 2, 2, 2, 0, 0, 2, 3, 3]\n",
    "print(insertion_sort_with_separate(student_number))"
   ]
  }
 ],
 "metadata": {
  "kernelspec": {
   "display_name": "Python 3",
   "language": "python",
   "name": "python3"
  },
  "language_info": {
   "codemirror_mode": {
    "name": "ipython",
    "version": 3
   },
   "file_extension": ".py",
   "mimetype": "text/x-python",
   "name": "python",
   "nbconvert_exporter": "python",
   "pygments_lexer": "ipython3",
   "version": "3.9.13"
  },
  "orig_nbformat": 4,
  "colab": {
   "provenance": [],
   "include_colab_link": true
  }
 },
 "nbformat": 4,
 "nbformat_minor": 0
}
